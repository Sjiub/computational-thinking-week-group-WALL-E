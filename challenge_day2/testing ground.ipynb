def solution_station_2(date_str):
    # gotta slice the date stringgg
    year = int(date_string[0:4])
    month = int(date_str[5:7])
    day = int(date_str[8:10])

    # Zeller for Gregorian calender
    if month < 3:
        month += 12
        year -= 1

    k = year % 100
    j = year // 100
    weekday_number = (day + (13 * (month + 1)) // 5 + k + (k // 4) + (j // 4) + 5 * j) % 7

    japanese_weekdays = ["土曜日", "日曜日", "月曜日", "火曜日", "水曜日", "木曜日", "金曜日"]

return japanese_weekdays[weekday_number
